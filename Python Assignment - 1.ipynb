{
 "cells": [
  {
   "cell_type": "markdown",
   "metadata": {},
   "source": [
    "# 1. Write a program which will find all such numbers which are divisible by 7 but are not a multiple of 5, between 2000 and 3200 (both included). The numbers obtained should be printed in a comma-separated sequence on a single line."
   ]
  },
  {
   "cell_type": "code",
   "execution_count": 1,
   "metadata": {},
   "outputs": [
    {
     "name": "stdout",
     "output_type": "stream",
     "text": [
      "Enter the lower range : 2000\n",
      "Enter the upper range : 3200\n",
      "\n",
      "\n",
      "The numbers which are divisible by 7 and are not a multiple of 5 between 2000 and 3200 are as follows : \n",
      "\n",
      "\n"
     ]
    },
    {
     "data": {
      "text/plain": [
       "'2002,2009,2016,2023,2037,2044,2051,2058,2072,2079,2086,2093,2107,2114,2121,2128,2142,2149,2156,2163,2177,2184,2191,2198,2212,2219,2226,2233,2247,2254,2261,2268,2282,2289,2296,2303,2317,2324,2331,2338,2352,2359,2366,2373,2387,2394,2401,2408,2422,2429,2436,2443,2457,2464,2471,2478,2492,2499,2506,2513,2527,2534,2541,2548,2562,2569,2576,2583,2597,2604,2611,2618,2632,2639,2646,2653,2667,2674,2681,2688,2702,2709,2716,2723,2737,2744,2751,2758,2772,2779,2786,2793,2807,2814,2821,2828,2842,2849,2856,2863,2877,2884,2891,2898,2912,2919,2926,2933,2947,2954,2961,2968,2982,2989,2996,3003,3017,3024,3031,3038,3052,3059,3066,3073,3087,3094,3101,3108,3122,3129,3136,3143,3157,3164,3171,3178,3192,3199'"
      ]
     },
     "execution_count": 1,
     "metadata": {},
     "output_type": "execute_result"
    }
   ],
   "source": [
    "def divisibles(lower_range, upper_range):\n",
    "    list_num = []\n",
    "    \n",
    "    for num in range(lower_range,upper_range + 1):\n",
    "        if (num%7 == 0) and (num%5 != 0):\n",
    "            list_num.append(str(num))\n",
    "    \n",
    "    new_str = \",\".join(list_num)\n",
    "    print(\"\\n\")\n",
    "    print(\"The numbers which are divisible by 7 and are not a multiple of 5 between {} and {} are as follows : \".format(lower_range,upper_range))\n",
    "    print(\"\\n\")\n",
    "    return new_str\n",
    "    \n",
    "####Enter the details\n",
    "lower_range = int(input(\"Enter the lower range : \"))\n",
    "upper_range = int(input(\"Enter the upper range : \"))\n",
    "\n",
    "divisibles(lower_range,upper_range)"
   ]
  },
  {
   "cell_type": "markdown",
   "metadata": {},
   "source": [
    "# 2. Write a Python program to accept the user's first and last name and then getting them printed in the the reverse order with a space between first name and last name."
   ]
  },
  {
   "cell_type": "code",
   "execution_count": 2,
   "metadata": {},
   "outputs": [
    {
     "name": "stdout",
     "output_type": "stream",
     "text": [
      "What is your first name? : Mohammed\n",
      "What is your last name? : Amaan\n",
      "\n",
      "\n",
      "Your full name is Mohammed Amaan\n",
      "\n",
      "\n",
      "Your full name in reverse order is Amaan Mohammed\n"
     ]
    }
   ],
   "source": [
    "####First Way - Complex Way\n",
    "def reverse_name(first_name,last_name):\n",
    "    full_name = first_name + \" \" + last_name\n",
    "    full_name_list = full_name.split()\n",
    "    reverse_name_list = full_name_list[::-1]\n",
    "    reversed_full_name = \" \".join(reverse_name_list)\n",
    "    print(\"\\n\")\n",
    "    print(\"Your full name is {} {}\".format(first_name,last_name))\n",
    "    print(\"\\n\")\n",
    "    print(\"Your full name in reverse order is {}\".format(reversed_full_name))\n",
    "    \n",
    "####Enter the details\n",
    "first_name = input(\"What is your first name? : \").capitalize()\n",
    "last_name = input(\"What is your last name? : \").capitalize()\n",
    "reverse_name(first_name,last_name)"
   ]
  },
  {
   "cell_type": "code",
   "execution_count": 3,
   "metadata": {},
   "outputs": [
    {
     "name": "stdout",
     "output_type": "stream",
     "text": [
      "What is your first name? : mohammed\n",
      "What is your last name? : amaan\n",
      "\n",
      "\n",
      "Your full name is Mohammed Amaan\n",
      "\n",
      "\n",
      "Your full name in reverse order is Amaan Mohammed\n"
     ]
    }
   ],
   "source": [
    "####Second way - Easy way\n",
    "def new_reverse_name(first_name,last_name):\n",
    "    print(\"\\n\")\n",
    "    print(\"Your full name is {} {}\".format(first_name,last_name))\n",
    "    print(\"\\n\")\n",
    "    print(\"Your full name in reverse order is {} {}\".format(last_name,first_name))\n",
    "    \n",
    "####Enter the details\n",
    "first_name = input(\"What is your first name? : \").capitalize()\n",
    "last_name = input(\"What is your last name? : \").capitalize()\n",
    "new_reverse_name(first_name,last_name)"
   ]
  },
  {
   "cell_type": "markdown",
   "metadata": {},
   "source": [
    "# 3. Write a Python program to find the volume of a sphere with diameter 12 cm."
   ]
  },
  {
   "cell_type": "code",
   "execution_count": 6,
   "metadata": {},
   "outputs": [
    {
     "name": "stdout",
     "output_type": "stream",
     "text": [
      "Give the radius : 6\n",
      "\n",
      "\n",
      "The volume of the sphere with the radius 6 is 904.7786842338603\n"
     ]
    }
   ],
   "source": [
    "####Volume of the Sphere when radius is given\n",
    "def volume_of_shere(radius):\n",
    "    pi = 3.141592653589793\n",
    "    volume = (4/3) * pi * (radius**3)\n",
    "    print(\"\\n\")\n",
    "    print(\"The volume of the sphere with the radius {} is {}\".format(radius,volume))\n",
    "    \n",
    "####Enter the details\n",
    "radius = int(input(\"Give the radius : \"))\n",
    "volume_of_shere(radius)"
   ]
  },
  {
   "cell_type": "code",
   "execution_count": 7,
   "metadata": {},
   "outputs": [
    {
     "name": "stdout",
     "output_type": "stream",
     "text": [
      "Give the diameter in cms : 12\n",
      "\n",
      "\n",
      "The volume of the sphere with the diameter 12 is 904.7786842338603\n"
     ]
    }
   ],
   "source": [
    "####Volume of the Sphere when diameter is given\n",
    "def volume_of_shere(diameter):\n",
    "    pi = 3.141592653589793\n",
    "    radius = diameter/2\n",
    "    volume = (4/3) * pi * (radius**3)\n",
    "    print(\"\\n\")\n",
    "    print(\"The volume of the sphere with the diameter {} is {}\".format(diameter,volume))\n",
    "    \n",
    "####Enter the details\n",
    "diameter = int(input(\"Give the diameter in cms : \"))\n",
    "volume_of_shere(diameter)"
   ]
  },
  {
   "cell_type": "code",
   "execution_count": null,
   "metadata": {},
   "outputs": [],
   "source": []
  }
 ],
 "metadata": {
  "kernelspec": {
   "display_name": "Python 3",
   "language": "python",
   "name": "python3"
  },
  "language_info": {
   "codemirror_mode": {
    "name": "ipython",
    "version": 3
   },
   "file_extension": ".py",
   "mimetype": "text/x-python",
   "name": "python",
   "nbconvert_exporter": "python",
   "pygments_lexer": "ipython3",
   "version": "3.7.6"
  }
 },
 "nbformat": 4,
 "nbformat_minor": 4
}
